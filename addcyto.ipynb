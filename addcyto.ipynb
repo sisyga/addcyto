{
 "cells": [
  {
   "cell_type": "code",
   "execution_count": 1,
   "metadata": {
    "pycharm": {
     "name": "#%%\n"
    }
   },
   "outputs": [],
   "source": [
    "import numpy as np\n",
    "from matplotlib import pyplot as plt\n",
    "from scipy.integrate import solve_ivp\n",
    "import seaborn as sns"
   ]
  },
  {
   "cell_type": "code",
   "execution_count": 134,
   "metadata": {
    "pycharm": {
     "name": "#%%\n"
    }
   },
   "outputs": [],
   "source": [
    "def simple_addcyto(t, y, deathrates, repairrate, ctldamagerate, proliferationrate, ctlchemokillrate, chemodamagerate, \n",
    "                   ctlrecruitment, ctlremoval, ctlchemots, tumorchemots):\n",
    "    imax = len(deathrates)\n",
    "    ti = y[:imax]\n",
    "    ctl, chemo = y[imax:]\n",
    "    dti = np.zeros_like(ti)\n",
    "    dti[:-1] += repairrate * ti[1:]  # repair\n",
    "    dti[1:] -= repairrate * ti[1:]\n",
    "    dti -= deathrates * ti  # tumor cell death\n",
    "\n",
    "    dti[0] += proliferationrate * ti[0]  # tumor cell proliferation\n",
    "\n",
    "    dti[1:] += (ctldamagerate * ctl + chemodamagerate * chemo / (tumorchemots + chemo)) * ti[:-1]  # tumor cell damage\n",
    "    dti[:-1] -= (ctldamagerate * ctl + chemodamagerate * chemo / (tumorchemots + chemo)) * ti[:-1]\n",
    "    dctl = ctlrecruitment - ctlremoval * ctl - ctlchemokillrate * chemo * ctl / (ctlchemots + chemo)  # ctl kill by chemo, recruitment, removal\n",
    "    dchemo = 0.\n",
    "    return [*dti, dctl, dchemo]\n",
    "    "
   ]
  },
  {
   "cell_type": "code",
   "execution_count": 262,
   "metadata": {
    "pycharm": {
     "name": "#%%\n"
    }
   },
   "outputs": [],
   "source": [
    "deathrates = np.array((0., 0.1, 0.5))\n",
    "repairrate = 6\n",
    "ctldamagerate = 1\n",
    "proliferationrate =  1. / 24\n",
    "ctlchemokillrate = 4\n",
    "chemodamagerate = 1\n",
    "ctlrecruitment = 1\n",
    "ctlremoval = 1\n",
    "ctlchemots = 4\n",
    "tumorchemots = 0.1\n",
    "\n",
    "ctl0 = 1.\n",
    "chemo0 = 20.\n",
    "\n",
    "y0 = np.array([1., 0, 0, ctl0, chemo0])\n",
    "tmax = 100\n",
    "ts = np.linspace(0, tmax, 101)"
   ]
  },
  {
   "cell_type": "code",
   "execution_count": 263,
   "metadata": {
    "pycharm": {
     "name": "#%%\n"
    }
   },
   "outputs": [],
   "source": [
    "sol = solve_ivp(simple_addcyto, (0, tmax), y0, t_eval=ts, args=(deathrates, repairrate, ctldamagerate, proliferationrate, ctlchemokillrate, chemodamagerate, \n",
    "                   ctlrecruitment, ctlremoval, ctlchemots, tumorchemots))"
   ]
  },
  {
   "cell_type": "code",
   "execution_count": 264,
   "metadata": {
    "pycharm": {
     "name": "#%%\n"
    }
   },
   "outputs": [
    {
     "data": {
      "text/plain": [
       "[-1.9533582089552237, 1.9950248756218905, 0.0, -3.3333333333333335, 0.0]"
      ]
     },
     "execution_count": 264,
     "metadata": {},
     "output_type": "execute_result"
    }
   ],
   "source": [
    "simple_addcyto(0, y0, deathrates, repairrate, ctldamagerate, proliferationrate, ctlchemokillrate, chemodamagerate, \n",
    "                   ctlrecruitment, ctlremoval, ctlchemots, tumorchemots)"
   ]
  },
  {
   "cell_type": "code",
   "execution_count": 265,
   "metadata": {
    "pycharm": {
     "name": "#%%\n"
    }
   },
   "outputs": [],
   "source": [
    "imax = len(deathrates)\n",
    "T = sol.y[:imax].sum(0)\n",
    "ctl = sol.y[imax]\n",
    "chemo = sol.y[-1]"
   ]
  },
  {
   "cell_type": "code",
   "execution_count": 266,
   "metadata": {
    "pycharm": {
     "name": "#%%\n"
    }
   },
   "outputs": [
    {
     "data": {
      "image/png": "[encoded data removed]",
      "text/plain": [
       "<Figure size 432x288 with 1 Axes>"
      ]
     },
     "metadata": {
      "needs_background": "light"
     },
     "output_type": "display_data"
    }
   ],
   "source": [
    "plt.plot(sol.t, T, label='Tumor cells')\n",
    "plt.plot(sol.t, ctl, label='Active CTL')\n",
    "plt.legend()\n",
    "plt.xlabel('Time (hours)')\n",
    "plt.ylabel('Normalized numbers')\n",
    "plt.title('No chemotherapy')\n",
    "plt.ylim(0)\n",
    "# plt.yscale('log')\n",
    "plt.savefig('hidosechemo.svg')"
   ]
  },
  {
   "cell_type": "code",
   "execution_count": null,
   "metadata": {
    "pycharm": {
     "name": "#%%\n"
    }
   },
   "outputs": [],
   "source": []
  }
 ],
 "metadata": {
  "kernelspec": {
   "display_name": "Python 3",
   "language": "python",
   "name": "python3"
  },
  "language_info": {
   "codemirror_mode": {
    "name": "ipython",
    "version": 3
   },
   "file_extension": ".py",
   "mimetype": "text/x-python",
   "name": "python",
   "nbconvert_exporter": "python",
   "pygments_lexer": "ipython3",
   "version": "3.8.8"
  }
 },
 "nbformat": 4,
 "nbformat_minor": 1
}