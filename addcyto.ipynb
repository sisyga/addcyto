{
 "cells": [
  {
   "metadata": {},
   "cell_type": "markdown",
   "source": "# Simplified model for chemo-immunotherapy\n"
  },
  {
   "cell_type": "code",
   "metadata": {
    "pycharm": {
     "name": "#%%\n"
    },
    "ExecuteTime": {
     "end_time": "2024-12-13T14:42:28.970452Z",
     "start_time": "2024-12-13T14:42:28.966579Z"
    }
   },
   "source": [
    "import numpy as np\n",
    "from matplotlib import pyplot as plt\n",
    "from scipy.integrate import solve_ivp"
   ],
   "outputs": [],
   "execution_count": 3
  },
  {
   "cell_type": "code",
   "metadata": {
    "pycharm": {
     "name": "#%%\n"
    },
    "ExecuteTime": {
     "end_time": "2024-12-13T14:42:42.455070Z",
     "start_time": "2024-12-13T14:42:42.448002Z"
    }
   },
   "source": [
    "import string\n",
    "from itertools import cycle\n",
    "\n",
    "\n",
    "def label_axes(fig, labels=None, loc=None, **kwargs):\n",
    "    \"\"\"\n",
    "    Walks through axes and labels each.\n",
    "    kwargs are collected and passed to `annotate`\n",
    "    Parameters\n",
    "    ----------\n",
    "    fig : Figure\n",
    "         Figure object to work on\n",
    "    labels : iterable or None\n",
    "        iterable of strings to use to label the axes.\n",
    "        If None, lower case letters are used.\n",
    "    loc : len=2 tuple of floats\n",
    "        Where to put the label in axes-fraction units\n",
    "    \"\"\"\n",
    "    if labels is None:\n",
    "        labels = string.ascii_lowercase\n",
    "\n",
    "    # re-use labels rather than stop labeling\n",
    "    labels = cycle(labels)\n",
    "    if loc is None:\n",
    "        loc = (-0.05, 1.05)\n",
    "    for ax, lab in zip(fig.axes, labels):\n",
    "        ax.annotate(lab, xy=loc, ha='right', weight='bold', size=8,\n",
    "                    xycoords='axes fraction',\n",
    "                    **kwargs)"
   ],
   "outputs": [],
   "execution_count": 8
  },
  {
   "metadata": {},
   "cell_type": "markdown",
   "source": "This is simplified model for chemo-immunotherapy. Tumor cells have discrete damage levels, indicated by tumor cell compartments $i$. T-cells can attach to tumor cells with a certain rate. Attached T-cells can damage tumor cells. Tumor cells can proliferate, die, and repair. Moreover, chemotherapy can damage both tumor cells and T-cells. Depending on parameters, in certain parameter ranges chemotherapy can enhance T-cell efficacy, while in other ranges it can suppress T-cell efficacy."
  },
  {
   "cell_type": "code",
   "metadata": {
    "pycharm": {
     "name": "#%%\n"
    },
    "ExecuteTime": {
     "end_time": "2024-12-13T14:42:32.423310Z",
     "start_time": "2024-12-13T14:42:32.415047Z"
    }
   },
   "source": [
    "def simple_addcyto(t, y, deathrates, repairrate, ctldamagerate, proliferationrate, ctlchemokillrate, chemodamagerate,\n",
    "                   ctlrecruitment, ctlremoval, ctlchemots, tumorchemots):\n",
    "    imax = len(deathrates)\n",
    "    ti = y[:imax]\n",
    "    ctl, chemo = y[imax:]\n",
    "    dti = np.zeros_like(ti)\n",
    "    dti[:-1] += repairrate * ti[1:]  # repair\n",
    "    dti[1:] -= repairrate * ti[1:]\n",
    "    dti -= deathrates * ti  # tumor cell death\n",
    "\n",
    "    dti[0] += proliferationrate * ti[0]  # tumor cell proliferation of undamaged tumor cells\n",
    "\n",
    "    dti[1:] += (ctldamagerate * ctl + chemodamagerate * chemo / (tumorchemots + chemo)) * ti[\n",
    "                                                                                          :-1]  # tumor cell damage by ctl and chemo\n",
    "    dti[:-1] -= (ctldamagerate * ctl + chemodamagerate * chemo / (tumorchemots + chemo)) * ti[:-1]\n",
    "    dctl = ctlrecruitment - ctlremoval * ctl - ctlchemokillrate * chemo * ctl / (\n",
    "                ctlchemots + chemo)  # ctl kill by chemo, recruitment, removal\n",
    "    dchemo = 0.\n",
    "    return [*dti, dctl, dchemo]\n"
   ],
   "outputs": [],
   "execution_count": 4
  },
  {
   "cell_type": "code",
   "metadata": {
    "pycharm": {
     "name": "#%%\n"
    },
    "ExecuteTime": {
     "end_time": "2024-12-13T14:42:32.654040Z",
     "start_time": "2024-12-13T14:42:32.647568Z"
    }
   },
   "source": [
    "deathrates = np.array((0., 0.1, 0.5))\n",
    "repairrate = 6\n",
    "ctldamagerate = 1\n",
    "proliferationrate = 1. / 24\n",
    "ctlchemokillrate = .05\n",
    "chemodamagerate = 1\n",
    "ctlrecruitment = 0.01\n",
    "ctlremoval = 0.01\n",
    "ctlchemots = 10\n",
    "tumorchemots = 0.1\n",
    "\n",
    "ctl0 = 1.\n",
    "chemo0 = 0\n",
    "\n",
    "y0 = np.array([1., 0, 0, ctl0, chemo0])\n",
    "tmax = 96\n",
    "ts = np.linspace(0, tmax, 101)"
   ],
   "outputs": [],
   "execution_count": 5
  },
  {
   "cell_type": "code",
   "metadata": {
    "pycharm": {
     "name": "#%%\n"
    },
    "ExecuteTime": {
     "end_time": "2024-12-13T14:42:34.771170Z",
     "start_time": "2024-12-13T14:42:34.650843Z"
    }
   },
   "source": [
    "sol = solve_ivp(simple_addcyto, (0, tmax), y0, t_eval=ts,\n",
    "                args=(deathrates, repairrate, ctldamagerate, proliferationrate, ctlchemokillrate, chemodamagerate,\n",
    "                      ctlrecruitment, ctlremoval, ctlchemots, tumorchemots))"
   ],
   "outputs": [],
   "execution_count": 6
  },
  {
   "cell_type": "code",
   "metadata": {
    "pycharm": {
     "name": "#%%\n"
    },
    "ExecuteTime": {
     "end_time": "2024-12-13T14:42:46.756266Z",
     "start_time": "2024-12-13T14:42:45.995924Z"
    }
   },
   "source": [
    "fig, axs = plt.subplots(1, 3, sharex=True, sharey=True, figsize=(3, 1.5))\n",
    "imax = len(deathrates)\n",
    "c0s = [0, 1, 30]\n",
    "for c, ax in zip(c0s, axs):\n",
    "    y0 = np.array([1., 0, 0, ctl0, c])\n",
    "    sol = solve_ivp(simple_addcyto, (0, tmax), y0, t_eval=ts,\n",
    "                    args=(deathrates, repairrate, ctldamagerate, proliferationrate, ctlchemokillrate, chemodamagerate,\n",
    "                          ctlrecruitment, ctlremoval, ctlchemots, tumorchemots))\n",
    "\n",
    "    T = sol.y[:imax].sum(0)\n",
    "    ctl = sol.y[imax]\n",
    "    chemo = sol.y[-1]\n",
    "    t = sol.t\n",
    "    ax.plot(t, T, label='Tumor cells', lw=1)\n",
    "    ax.plot(t, ctl, label='Active CTL', lw=1)\n",
    "    ax.plot([t[0], t[-1]], [1, 1], '--', c='gray', alpha=.5, lw=1)\n",
    "    plt.ylim(0, 2)\n",
    "    plt.xlim(0, 96)\n",
    "    plt.xticks([0, 48])\n",
    "\n",
    "# plt.yscale('log')\n",
    "# plt.savefig('nochemo.svg')\n",
    "axs[0].legend(borderpad=0.05, fontsize=6, frameon=False, handlelength=.75, edgecolor='1.')\n",
    "axs[0].set_ylabel('Normalized\\ncell numbers')\n",
    "axs[0].set_yticks([0, 1])\n",
    "axs[0].set_title('No chemo', size=8)\n",
    "axs[1].set_title('Sublethal\\nchemo', size=8)\n",
    "axs[2].set_title('High-dose\\nchemo', size=8)\n",
    "label_axes(fig)\n",
    "fig.supxlabel('Time (h)', size=8)"
   ],
   "outputs": [
    {
     "data": {
      "text/plain": [
       "Text(0.5, 0.01, 'Time (h)')"
      ]
     },
     "execution_count": 9,
     "metadata": {},
     "output_type": "execute_result"
    },
    {
     "data": {
      "text/plain": [
       "<Figure size 300x150 with 3 Axes>"
      ],
      "image/png": "[encoded data removed]"
     },
     "metadata": {},
     "output_type": "display_data"
    }
   ],
   "execution_count": 9
  },
  {
   "cell_type": "code",
   "execution_count": null,
   "metadata": {
    "pycharm": {
     "name": "#%%\n"
    }
   },
   "outputs": [],
   "source": []
  },
  {
   "cell_type": "code",
   "execution_count": null,
   "metadata": {
    "pycharm": {
     "name": "#%%\n"
    }
   },
   "outputs": [],
   "source": []
  }
 ],
 "metadata": {
  "kernelspec": {
   "display_name": "Python 3",
   "language": "python",
   "name": "python3"
  },
  "language_info": {
   "codemirror_mode": {
    "name": "ipython",
    "version": 3
   },
   "file_extension": ".py",
   "mimetype": "text/x-python",
   "name": "python",
   "nbconvert_exporter": "python",
   "pygments_lexer": "ipython3",
   "version": "3.8.11"
  }
 },
 "nbformat": 4,
 "nbformat_minor": 4
}
